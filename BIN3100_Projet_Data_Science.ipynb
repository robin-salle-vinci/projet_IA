{
  "nbformat": 4,
  "nbformat_minor": 0,
  "metadata": {
    "colab": {
      "provenance": [],
      "include_colab_link": true
    },
    "kernelspec": {
      "name": "python3",
      "display_name": "Python 3"
    },
    "language_info": {
      "name": "python"
    }
  },
  "cells": [
    {
      "cell_type": "markdown",
      "metadata": {
        "id": "view-in-github",
        "colab_type": "text"
      },
      "source": [
        "<a href=\"https://colab.research.google.com/github/robin-salle-vinci/projet_IA/blob/main/BIN3100_Projet_Data_Science.ipynb\" target=\"_parent\"><img src=\"https://colab.research.google.com/assets/colab-badge.svg\" alt=\"Open In Colab\"/></a>"
      ]
    },
    {
      "cell_type": "markdown",
      "metadata": {
        "id": "BsqBC76R6MbT"
      },
      "source": [
        "#Théorie\n",
        "\n",
        "##Vidéos obligatoires\n",
        "Nous vous demandons de regarder et de comprendre les vidéos suivante:\n",
        "\n",
        "1.   [Projet COVID-19 : EXPLORATION DES DONNÉES](https://www.youtube.com/watch?v=u64sWJEP4S0&list=PLO_fdPEVlfKqMDNmCFzQISI2H_nJcEDJq&index=31)\n",
        "2.   [Projet COVID-19 : PRE-PROCESSING](https://www.youtube.com/watch?v=x8yu8sq8mdw&list=PLO_fdPEVlfKqMDNmCFzQISI2H_nJcEDJq&index=32)\n",
        "3.   [Projet COVID-19 : MODÉLISATION ](https://www.youtube.com/watch?v=r58meM7ieaQ&list=PLO_fdPEVlfKqMDNmCFzQISI2H_nJcEDJq&index=33)\n",
        "\n",
        "## Les vidéos suivantes sont en bonus:\n",
        "\n",
        "4.  [PROJET COVID-19 : MÉTHODOLOGIE DE TRAVAIL](https://www.youtube.com/watch?v=1bJYEE9qgS4&list=PLO_fdPEVlfKqMDNmCFzQISI2H_nJcEDJq&index=30)\n",
        "5.  [SK-LEARN : ENSEMBLE LEARNING](https://www.youtube.com/watch?v=7C_YpudYtw8&list=PLO_fdPEVlfKqMDNmCFzQISI2H_nJcEDJq&index=29)\n"
      ]
    },
    {
      "cell_type": "markdown",
      "metadata": {
        "id": "tKSyXx3M6Mw0"
      },
      "source": [
        "# Partie 1: Vidéos Machine Learnia\n",
        "\n",
        "https://www.youtube.com/playlist?list=PLO_fdPEVlfKqMDNmCFzQISI2H_nJcEDJq"
      ]
    },
    {
      "cell_type": "markdown",
      "metadata": {
        "id": "e11XhQyN8lLb"
      },
      "source": [
        "## Vidéos (27 à 29 /30) :\n",
        "[Projet COVID-19 : EXPLORATION DES DONNÉES](https://www.youtube.com/watch?v=u64sWJEP4S0&list=PLO_fdPEVlfKqMDNmCFzQISI2H_nJcEDJq&index=31) <strong> (Déjà vue en Semaine 04 !) </strong>\n",
        "\n",
        "[Projet COVID-19 : PRE-PROCESSING](https://www.youtube.com/watch?v=x8yu8sq8mdw&list=PLO_fdPEVlfKqMDNmCFzQISI2H_nJcEDJq&index=32)\n",
        "\n",
        "[Projet COVID-19 : MODÉLISATION ](https://www.youtube.com/watch?v=r58meM7ieaQ&list=PLO_fdPEVlfKqMDNmCFzQISI2H_nJcEDJq&index=33)\n",
        "\n",
        "\n",
        "Dans ces trois vidéos, vous allez suivre le développement complet d'un projet depuis l'analyse des données jusqu'à la création du modèle ainsi que son entrainement et son évaluation.\n",
        "\n",
        "Ce projet est celui de la détection des patients ayant le COVID-19.\n",
        "\n",
        "**Remarques :**\n",
        "\n",
        "1. Les vidéos sont assez longues (60, 45 et 37 minutes respectivement).  On ne vous demande pas de reproduire ce projet. Celui-ci est là pour vous donner un exemple des différentes étapes d'un projet et vous aider dans le projet que vous allez faire cette semaine. Les deux heures du lundi seront consacré à ce nouveau projet.\n",
        "2. La méthodologie utilisée pour la résolution de ce projet est expliquée plus en détails dans la première vidéo bonus : [PROJET COVID-19 : MÉTHODOLOGIE DE TRAVAIL ](https://www.youtube.com/watch?v=1bJYEE9qgS4&list=PLO_fdPEVlfKqMDNmCFzQISI2H_nJcEDJq&index=30)\n",
        "3. Pour la partie modélisation, des techniques dites d'Ensemble Learning sont utilisées. Si vous voulez en savoir plus sur ces techniques, vous pouvez regarder la seconde vidéo bonus : [SK-LEARN : ENSEMBLE LEARNING ](https://www.youtube.com/watch?v=7C_YpudYtw8&list=PLO_fdPEVlfKqMDNmCFzQISI2H_nJcEDJq&index=29)\n",
        "4. Si cela vous intéresse, le fichier de données pour ce projet se trouve sur moodle et s'apppelle [COVID-19.xlsx](https://moodle.vinci.be/mod/resource/view.php?id=192010)"
      ]
    },
    {
      "cell_type": "markdown",
      "metadata": {
        "id": "j_KIPXjI8lc8"
      },
      "source": [
        "# Partie 2 : Projet \"Customer Segmentation Classification\"\n",
        "\n",
        "Une entreprise automobile envisage de pénétrer de nouveaux marchés avec ses produits existants (P1, P2, P3, P4 et P5). Après une étude de marché intensive, elle en a déduit que le comportement du nouveau marché est similaire à celui de son marché existant.\n",
        "\n",
        "Sur le marché existant, l'équipe de vente a classé tous les clients en quatre segments (A, B, C, D). Elle a ensuite mené des actions de sensibilisation et de communication segmentées pour chaque segment de clients. Cette stratégie a exceptionnellement bien fonctionné. Elle prévoit d'utiliser la même stratégie pour les nouveaux marchés et a identifié 1000 nouveaux clients potentiels.\n",
        "\n",
        "Il vous est demandé d'aider le directeur à prévoir le bon groupe de nouveaux clients.\n",
        "\n",
        "Ces données se trouve dans le fichier [Customer_Segmentation.csv](https://moodle.vinci.be/mod/resource/view.php?id=191997) se trouvant sur moodle\n",
        "\n",
        "Nous vous demandons de fournir un modèle permettant de faire des prédictions <strong> sur le segment dans lequel classer chaque nouveau client. </strong>\n",
        "\n",
        "Pour faire, vous allez suivre la méthodologie présentée dans les vidéos :\n",
        "\n",
        "\n",
        "\n",
        "<ol type=\"I\">\n",
        "<li> <h2><b>Exploratory Data Analysis</b> </h2>\n",
        "<b>Objectif :</b> comprendre au maximum les données dont on dispose pour définir une stratégie de modélisation.: </li>\n",
        "<ol>\n",
        "<li>  Analyse de la forme :</li>\n",
        "<ol type=\"a\">\n",
        "<li> Identification de la target </li>\n",
        "<li>Nombre des lignes et de colonnes </li>\n",
        "<li>Identification des valeurs manquantes </li>\n",
        "<li>Types de variables</li>\n",
        "</ol>\n",
        "<li>Analyse du fond :</li>\n",
        "<ol type=\"a\">\n",
        "<li>Visualisation de la target (histogramme/boxplot) </li>\n",
        "<li>Compréhension des différentes variables (recherche)</li>\n",
        "<li>Visualisation des relations : features/target</li>\n",
        "<li>Identification des outliers</li>\n",
        "</ol>\n",
        "</ol>\n",
        "\n",
        "<li><h2><b>Pre-processing</b></h2>\n",
        "\n",
        "<b> Objectif :</b> transformer le data pour le mettre dans un format propice au machine learning </li>\n",
        "<ol>\n",
        "<li>Création du Train Set / Test Set </li>\n",
        "<li>Élimination des NaN : dropna(), imputation, colonne\"vides\"</li>\n",
        "<li>Encodage</li>\n",
        "<li>Suppression des outliers néfastes au modèle</li>\n",
        "<li>Feature selection</li>\n",
        "<li>Feature engineering</li>\n",
        "<li>Feature scaling</li>\n",
        "</ol>\n",
        "\n",
        "<li><h2><b>Modelling</b></h2>\n",
        "<b>Objectif:</b> développer un modèle de machine learning capable de répondre a l'objectif final.</li>\n",
        "<ol>\n",
        "<li>Définir une fonction d'évaluation</li>\n",
        "<li>Entrainement de différents modèles</li>\n",
        "<li>Optimisation avec GridSearchCV</li>\n",
        "<li>Analyse des erreurs et retour au Preprocessing / EDA <br>\n",
        "           Learning Curve et prise de décision</li>\n",
        "</ol>\n",
        "</ol>\n",
        "\n",
        "\n"
      ]
    },
    {
      "cell_type": "markdown",
      "metadata": {
        "id": "eWa-fn1MCVQR"
      },
      "source": [
        "# **I. EXPLORATORY DATA ANALYSIS**\n",
        "\n",
        "## 1) Objectif :\n",
        "- Comprendre du mieux possible nos données (un petit pas en avant vaut mieux qu'un grand pas en arriere)\n",
        "- Développer une premiere stratégie de modélisation\n",
        "\n",
        "## 2) Analyse de Forme :\n",
        "- **variable target** : [ Votre réponse ici ]\n",
        "- **lignes et colonnes** : [ Votre réponse ici ]\n",
        "- **types de variables** : [ Votre réponse ici ]\n",
        "- **Analyse des valeurs manquantes** :\n",
        "\n",
        "    [ Votre réponse ici ]"
      ]
    },
    {
      "cell_type": "code",
      "metadata": {
        "id": "6jP9jGOu59wa"
      },
      "source": [
        "#Imports\n",
        "import numpy as np\n",
        "import pandas as pd\n",
        "import matplotlib.pyplot as plt\n",
        "import seaborn as sns"
      ],
      "execution_count": 2,
      "outputs": []
    },
    {
      "cell_type": "code",
      "metadata": {
        "id": "OyRq-Rpc6c7W"
      },
      "source": [],
      "execution_count": null,
      "outputs": []
    },
    {
      "cell_type": "markdown",
      "metadata": {
        "id": "hb9gnDyUDjan"
      },
      "source": [
        "## 3) Analyse de Fond :\n",
        "- **Visualisation de la target** :\n",
        "    \n",
        "    [ Votre réponse ici ]\n",
        "    \n",
        "    \n",
        "- **Signification des variables** :\n",
        "    \n",
        "    [ Votre réponse ici ]\n",
        "\n",
        "- **Relation Variables / Target** :\n",
        "\n",
        "    [ Votre réponse ici ]\n",
        "\n",
        "- **Choix de la métrique** : Etant donné le problème quelle mesure serait la plus appropriée et pourquoi?\n",
        "\n",
        "    [ Votre réponse ici ]\n",
        "\n",
        "- **Outliers et/ou autre analyse** :\n",
        "\n",
        "    [ Votre réponse ici ]"
      ]
    },
    {
      "cell_type": "code",
      "metadata": {
        "id": "YVoJWCylEIYo"
      },
      "source": [
        "#Votre code pour l'analyse de Fond"
      ],
      "execution_count": null,
      "outputs": []
    },
    {
      "cell_type": "markdown",
      "metadata": {
        "id": "6VNmeIK-ERzu"
      },
      "source": [
        "## **II) PRE-PROCESSING :**\n",
        "\n",
        "##Objectif :  \n",
        "- Transformer le data pour le mettre dans un format propice au machine learning\n",
        "\n",
        "##Explications de vos choix :\n",
        "[ Vos explications ici ]"
      ]
    },
    {
      "cell_type": "code",
      "metadata": {
        "id": "E9LmHujhE4YI"
      },
      "source": [
        "#Code pour votre pre-processing"
      ],
      "execution_count": null,
      "outputs": []
    },
    {
      "cell_type": "markdown",
      "metadata": {
        "id": "k-eORh3pFix2"
      },
      "source": [
        "##**III) MODELLING**\n",
        "\n",
        "##Objectif :  \n",
        "- Développer un modèle de machine learning capable de répondre a l'objectif final.\n",
        "\n",
        "##Explications de vos choix :\n",
        "[ Vos explications ici ]"
      ]
    },
    {
      "cell_type": "code",
      "metadata": {
        "id": "vQOvWy9qF2X0",
        "outputId": "db55821f-eb3d-43d7-f93e-78cb8198bc54",
        "colab": {
          "base_uri": "https://localhost:8080/"
        }
      },
      "source": [
        "#Code votre modelling\n",
        "from sklearn.tree import DecisionTreeClassifier\n",
        "from sklearn.ensemble import RandomForestClassifier, GradientBoostingClassifier\n",
        "from sklearn.svm import LinearSVC, SVC\n",
        "from sklearn.neighbors import KNeighborsClassifier\n",
        "from sklearn.linear_model import LogisticRegression\n",
        "from sklearn.pipeline import make_pipeline\n",
        "from sklearn.preprocessing import StandardScaler\n",
        "\n",
        "# création données exemples\n",
        "from sklearn.datasets import make_blobs\n",
        "from sklearn.model_selection import train_test_split\n",
        "X, y = make_blobs(n_samples=200, centers=2, n_features=5, center_box=(0, 10))\n",
        "X_train, X_test, y_train, y_test = train_test_split(X, y, test_size=0.33, random_state=42)\n",
        "\n",
        "\n",
        "# Fonction d'évaluation\n",
        "from sklearn.metrics import f1_score, confusion_matrix, classification_report, accuracy_score, ConfusionMatrixDisplay\n",
        "from sklearn.model_selection import learning_curve\n",
        "def evaluation(model):\n",
        "  model.fit(X_train, y_train)\n",
        "  y_pred = model.predict(X_test)\n",
        "  cm = confusion_matrix(y_test, y_pred)\n",
        "  # résultat de l'évaluation\n",
        "  confusion_matrix_display = ConfusionMatrixDisplay(confusion_matrix=cm)\n",
        "  confusion_matrix_display.plot()\n",
        "  confusion_matrix_display.ax_.set_title(\"Matrice de confusion\")\n",
        "  plt.show()\n",
        "  print();\n",
        "  print(\"Rapport de classification: \\n\", classification_report(y_test, y_pred))\n",
        "  print(\"Accuracy: \", accuracy_score(y_test, y_pred))\n",
        "  # learning curve pour trouver la source du problème (overfitting, underfitting)\n",
        "  N, train_score, val_score = learning_curve(model, X_train, y_train, cv=5, scoring=\"f1\", train_sizes=np.linspace(0.1, 1.0, 10)) # cv -> nombre de découpe des données\n",
        "  # Création du graphique\n",
        "  print()\n",
        "  plt.figure(figsize=(12,8))\n",
        "  plt.plot(N, train_score.mean(axis=1), label=\"train score\")\n",
        "  plt.plot(N, val_score.mean(axis=1), label=\"validation score\")\n",
        "  plt.title(\"Learning curve\")\n",
        "  plt.xlabel(\"train set size\")\n",
        "  plt.ylabel(\"f1 score\")\n",
        "  plt.legend()\n",
        "  plt.show()\n",
        "\n",
        "\n",
        "# Entrainement de différents modèles\n",
        "preprocessor = make_pipeline(StandardScaler()); # à compléter en fonction de pre-processing !!!!!!!!!!!!!! + include_bias=False pour les erreurs inutiles\n",
        "\n",
        "DecisionTreeClassifierPIP = make_pipeline(preprocessor, DecisionTreeClassifier(random_state=0))\n",
        "RandomForestClassifierPIP = make_pipeline(preprocessor, RandomForestClassifier(random_state=0))\n",
        "LinearSVCPIP = make_pipeline(preprocessor, StandardScaler(), LinearSVC(random_state=0))\n",
        "SVCPIP = make_pipeline(preprocessor, StandardScaler(), SVC(random_state=0))\n",
        "KNeighborsClassifierPIP = make_pipeline(preprocessor, StandardScaler(), KNeighborsClassifier())\n",
        "LogisticRegressionPIP = make_pipeline(preprocessor, LogisticRegression(random_state=0))\n",
        "GradientBoostingClassifierPIP = make_pipeline(preprocessor, GradientBoostingClassifier(random_state=0))\n",
        "models = {'DecisionTree':DecisionTreeClassifierPIP, 'RandomForest':RandomForestClassifierPIP, 'LinearSVC':LinearSVCPIP, 'SVC':SVCPIP, 'KNN':KNeighborsClassifierPIP, 'LogisticRegression':LogisticRegressionPIP, 'GradientBoosting':GradientBoostingClassifierPIP}\n",
        "for name, model in models.items():\n",
        "  print(name)\n",
        "  #evaluation(model)\n",
        "\n",
        "\n",
        "# quand on aura trouver le meilleur modèle -> trouver ses meilleures features\n",
        "# pd.DataFrame(best_model.feature_importances_, index=X_train.columns).plot().bar(figsize=(12,8))\n",
        "\n",
        "\n",
        "# partie GridSearchCV pour optimiser le model avec les meilleurs scores de la fonction evaluation(recall et f1)\n",
        "from sklearn.model_selection import GridSearchCV, RandomizedSearchCV\n",
        "GradientBoostingClassifierPIP # exemple pris mais pas définitif à voir les résultats d'evaluation\n",
        "hypers_params = {'gradientboostingclassifier__n_estimators': range(1,100)} # à compléter selon le modèle choisi (les hyper params les plus important) (mettre le nom du model__ avant hyper param pour indiquer que c'est pour le step model dans pipeline) + à modifier e, fonction du résultat !!!\n",
        "grid = RandomizedSearchCV(GradientBoostingClassifierPIP, hypers_params, scoring='recall', cv=5, n_iter=40) # scoring à f1 aussi intéressant || RandomizedSearchCV est un grid mais qui fait des tests de hyperparam aléatoires si trop de hyperparams possible !!(n_iter= nombre de tests aleatoires)\n",
        "grid.fit(X_train, y_train)\n",
        "print(\"Meilleur modèle: \", grid.best_estimator_, \"\\n\")\n",
        "print(\"Meilleurs hyper-paramètres du modèle:\" , grid.best_params_)\n",
        "print()\n",
        "\n"
      ],
      "execution_count": 14,
      "outputs": [
        {
          "output_type": "stream",
          "name": "stdout",
          "text": [
            "DecisionTree\n",
            "RandomForest\n",
            "LinearSVC\n",
            "SVC\n",
            "KNN\n",
            "LogisticRegression\n",
            "GradientBoosting\n",
            "Meilleur modèle:  Pipeline(steps=[('pipeline',\n",
            "                 Pipeline(steps=[('standardscaler', StandardScaler())])),\n",
            "                ('gradientboostingclassifier',\n",
            "                 GradientBoostingClassifier(n_estimators=80, random_state=0))]) \n",
            "\n",
            "Meilleurs hyper-paramètres du modèle: {'gradientboostingclassifier__n_estimators': 80}\n",
            "\n"
          ]
        }
      ]
    },
    {
      "cell_type": "markdown",
      "metadata": {
        "id": "wHj6FnRdHMVA"
      },
      "source": [
        "##**IV) Tests du modèle**##\n",
        "\n",
        "Pour tester, votre modèle nous vous demandons de prédire les décisions pour les clients du fichier Customer_Segmentation et <strong> d'afficher le score de vos prédictions (l'accuracy, la précision ou le recall selon ce que vous avez choisi).</strong>\n",
        "\n",
        "\n",
        "Le fichier [Customer_Segmentation_test.csv](https://moodle.vinci.be/mod/resource/view.php?id=192001) contient les données des 1000 clients pour lesquels vous devez prédire le groupe.\n",
        "Pour ce faire, on vous demande de soumettre un fichier csv contenant les prédictions dans le même ordre que les clients du fichier Custom_Segmentation_test.csv. Ce fichier devra avoir la forme du fichier [Customer_Segmentation_predicition_submission.csv](https://moodle.vinci.be/mod/resource/view.php?id=192007) se trouvant aussi sur moodle.\n",
        "\n",
        "\n",
        "\n"
      ]
    },
    {
      "cell_type": "code",
      "metadata": {
        "id": "-YlWksUxNnJ1",
        "outputId": "f91b6047-b713-4c71-f243-f07cc5930034",
        "colab": {
          "base_uri": "https://localhost:8080/",
          "height": 1000
        }
      },
      "source": [
        "#Code pour vos tests et vos résultats\n",
        "model_final = grid.best_estimator_ # le meilleur modèle\n",
        "evaluation(model_final) # refaire une évaluation du meilleur modèle avec les meilleurs hyperparams\n",
        "\n",
        "# Chargement des données de test\n",
        "test_data_path = '/content/Customer_Segmentation_test.csv'\n",
        "test_data = pd.read_csv(test_data_path)\n",
        "# prédictions sur données à prédire\n",
        "predictions = model_final.predict(test_data)\n",
        "# Création du fichier de soumission\n",
        "submission = pd.DataFrame({'ID': test_data['ID'], 'Segmentation': predictions})\n",
        "\n",
        "submission_path = '/content/Customer_Segmentation_prediction_submission.csv'\n",
        "submission.to_csv(submission_path, index=False)\n",
        "print()\n",
        "print(f\"Prédictions enregistrées dans le fichier : {submission_path}\")\n"
      ],
      "execution_count": 30,
      "outputs": [
        {
          "output_type": "display_data",
          "data": {
            "text/plain": [
              "<Figure size 640x480 with 2 Axes>"
            ],
            "image/png": "[encoded data removed]"
          },
          "metadata": {}
        },
        {
          "output_type": "stream",
          "name": "stdout",
          "text": [
            "\n",
            "Rapport de classification: \n",
            "               precision    recall  f1-score   support\n",
            "\n",
            "           0       1.00      1.00      1.00        32\n",
            "           1       1.00      1.00      1.00        34\n",
            "\n",
            "    accuracy                           1.00        66\n",
            "   macro avg       1.00      1.00      1.00        66\n",
            "weighted avg       1.00      1.00      1.00        66\n",
            "\n",
            "Accuracy:  1.0\n",
            "\n"
          ]
        },
        {
          "output_type": "display_data",
          "data": {
            "text/plain": [
              "<Figure size 1200x800 with 1 Axes>"
            ],
            "image/png": "[encoded data removed]"
          },
          "metadata": {}
        },
        {
          "output_type": "stream",
          "name": "stdout",
          "text": [
            "[0 0 0 0 0 0 1 0 0 1 1 1 0 0 0 0 0 1 1 0 1 1 0 1 0 0 0 1 0 1 1 1 1 1 0 0 0\n",
            " 0 0 1 0 0 0 0 1 1 1 0 0 0 0 1 0 0 0 0 1 0 1 0 0 0 1 0 0 1 1 0 1 1 1 1 0 1\n",
            " 0 0 1 1 0 0 0 1 1 1 0 0 1 1 0 0 0 1 0 1 1 0 1 1 0 1 1 1 1 0 0 1 1 1 1 0 1\n",
            " 1 0 1 1 1 1 1 0 0 0 1 1 1 1 0 0 0 0 0 1 0 1 1 0 1 1 1 1 1 1 0 0 0 1 1 1 1\n",
            " 0 0 1 1 0 1 0 1 1 0 0 0 1 0 0 1 1 1 1 1 0 0 1 1 1 1 0 0 0 1 1 1 1 0 0 0 1\n",
            " 0 0 1 1 1 0 0 0 1 1 0 0 0 1 0]\n"
          ]
        },
        {
          "output_type": "error",
          "ename": "ValueError",
          "evalue": "Per-column arrays must each be 1-dimensional",
          "traceback": [
            "\u001b[0;31m---------------------------------------------------------------------------\u001b[0m",
            "\u001b[0;31mValueError\u001b[0m                                Traceback (most recent call last)",
            "\u001b[0;32m<ipython-input-30-a96dc3d0ed81>\u001b[0m in \u001b[0;36m<cell line: 14>\u001b[0;34m()\u001b[0m\n\u001b[1;32m     12\u001b[0m \u001b[0mprint\u001b[0m\u001b[0;34m(\u001b[0m\u001b[0mpredictions\u001b[0m\u001b[0;34m)\u001b[0m\u001b[0;34m\u001b[0m\u001b[0;34m\u001b[0m\u001b[0m\n\u001b[1;32m     13\u001b[0m \u001b[0;31m# Création du fichier de soumission\u001b[0m\u001b[0;34m\u001b[0m\u001b[0;34m\u001b[0m\u001b[0m\n\u001b[0;32m---> 14\u001b[0;31m \u001b[0msubmission\u001b[0m \u001b[0;34m=\u001b[0m \u001b[0mpd\u001b[0m\u001b[0;34m.\u001b[0m\u001b[0mDataFrame\u001b[0m\u001b[0;34m(\u001b[0m\u001b[0;34m{\u001b[0m\u001b[0;34m'ID'\u001b[0m\u001b[0;34m:\u001b[0m \u001b[0mX\u001b[0m\u001b[0;34m,\u001b[0m \u001b[0;34m'Segmentation'\u001b[0m\u001b[0;34m:\u001b[0m \u001b[0mpredictions\u001b[0m\u001b[0;34m}\u001b[0m\u001b[0;34m)\u001b[0m\u001b[0;34m\u001b[0m\u001b[0;34m\u001b[0m\u001b[0m\n\u001b[0m\u001b[1;32m     15\u001b[0m \u001b[0;34m\u001b[0m\u001b[0m\n\u001b[1;32m     16\u001b[0m \u001b[0msubmission_path\u001b[0m \u001b[0;34m=\u001b[0m \u001b[0;34m'/content/Customer_Segmentation_prediction_submission.csv'\u001b[0m\u001b[0;34m\u001b[0m\u001b[0;34m\u001b[0m\u001b[0m\n",
            "\u001b[0;32m/usr/local/lib/python3.10/dist-packages/pandas/core/frame.py\u001b[0m in \u001b[0;36m__init__\u001b[0;34m(self, data, index, columns, dtype, copy)\u001b[0m\n\u001b[1;32m    776\u001b[0m         \u001b[0;32melif\u001b[0m \u001b[0misinstance\u001b[0m\u001b[0;34m(\u001b[0m\u001b[0mdata\u001b[0m\u001b[0;34m,\u001b[0m \u001b[0mdict\u001b[0m\u001b[0;34m)\u001b[0m\u001b[0;34m:\u001b[0m\u001b[0;34m\u001b[0m\u001b[0;34m\u001b[0m\u001b[0m\n\u001b[1;32m    777\u001b[0m             \u001b[0;31m# GH#38939 de facto copy defaults to False only in non-dict cases\u001b[0m\u001b[0;34m\u001b[0m\u001b[0;34m\u001b[0m\u001b[0m\n\u001b[0;32m--> 778\u001b[0;31m             \u001b[0mmgr\u001b[0m \u001b[0;34m=\u001b[0m \u001b[0mdict_to_mgr\u001b[0m\u001b[0;34m(\u001b[0m\u001b[0mdata\u001b[0m\u001b[0;34m,\u001b[0m \u001b[0mindex\u001b[0m\u001b[0;34m,\u001b[0m \u001b[0mcolumns\u001b[0m\u001b[0;34m,\u001b[0m \u001b[0mdtype\u001b[0m\u001b[0;34m=\u001b[0m\u001b[0mdtype\u001b[0m\u001b[0;34m,\u001b[0m \u001b[0mcopy\u001b[0m\u001b[0;34m=\u001b[0m\u001b[0mcopy\u001b[0m\u001b[0;34m,\u001b[0m \u001b[0mtyp\u001b[0m\u001b[0;34m=\u001b[0m\u001b[0mmanager\u001b[0m\u001b[0;34m)\u001b[0m\u001b[0;34m\u001b[0m\u001b[0;34m\u001b[0m\u001b[0m\n\u001b[0m\u001b[1;32m    779\u001b[0m         \u001b[0;32melif\u001b[0m \u001b[0misinstance\u001b[0m\u001b[0;34m(\u001b[0m\u001b[0mdata\u001b[0m\u001b[0;34m,\u001b[0m \u001b[0mma\u001b[0m\u001b[0;34m.\u001b[0m\u001b[0mMaskedArray\u001b[0m\u001b[0;34m)\u001b[0m\u001b[0;34m:\u001b[0m\u001b[0;34m\u001b[0m\u001b[0;34m\u001b[0m\u001b[0m\n\u001b[1;32m    780\u001b[0m             \u001b[0;32mfrom\u001b[0m \u001b[0mnumpy\u001b[0m\u001b[0;34m.\u001b[0m\u001b[0mma\u001b[0m \u001b[0;32mimport\u001b[0m \u001b[0mmrecords\u001b[0m\u001b[0;34m\u001b[0m\u001b[0;34m\u001b[0m\u001b[0m\n",
            "\u001b[0;32m/usr/local/lib/python3.10/dist-packages/pandas/core/internals/construction.py\u001b[0m in \u001b[0;36mdict_to_mgr\u001b[0;34m(data, index, columns, dtype, typ, copy)\u001b[0m\n\u001b[1;32m    501\u001b[0m             \u001b[0marrays\u001b[0m \u001b[0;34m=\u001b[0m \u001b[0;34m[\u001b[0m\u001b[0mx\u001b[0m\u001b[0;34m.\u001b[0m\u001b[0mcopy\u001b[0m\u001b[0;34m(\u001b[0m\u001b[0;34m)\u001b[0m \u001b[0;32mif\u001b[0m \u001b[0mhasattr\u001b[0m\u001b[0;34m(\u001b[0m\u001b[0mx\u001b[0m\u001b[0;34m,\u001b[0m \u001b[0;34m\"dtype\"\u001b[0m\u001b[0;34m)\u001b[0m \u001b[0;32melse\u001b[0m \u001b[0mx\u001b[0m \u001b[0;32mfor\u001b[0m \u001b[0mx\u001b[0m \u001b[0;32min\u001b[0m \u001b[0marrays\u001b[0m\u001b[0;34m]\u001b[0m\u001b[0;34m\u001b[0m\u001b[0;34m\u001b[0m\u001b[0m\n\u001b[1;32m    502\u001b[0m \u001b[0;34m\u001b[0m\u001b[0m\n\u001b[0;32m--> 503\u001b[0;31m     \u001b[0;32mreturn\u001b[0m \u001b[0marrays_to_mgr\u001b[0m\u001b[0;34m(\u001b[0m\u001b[0marrays\u001b[0m\u001b[0;34m,\u001b[0m \u001b[0mcolumns\u001b[0m\u001b[0;34m,\u001b[0m \u001b[0mindex\u001b[0m\u001b[0;34m,\u001b[0m \u001b[0mdtype\u001b[0m\u001b[0;34m=\u001b[0m\u001b[0mdtype\u001b[0m\u001b[0;34m,\u001b[0m \u001b[0mtyp\u001b[0m\u001b[0;34m=\u001b[0m\u001b[0mtyp\u001b[0m\u001b[0;34m,\u001b[0m \u001b[0mconsolidate\u001b[0m\u001b[0;34m=\u001b[0m\u001b[0mcopy\u001b[0m\u001b[0;34m)\u001b[0m\u001b[0;34m\u001b[0m\u001b[0;34m\u001b[0m\u001b[0m\n\u001b[0m\u001b[1;32m    504\u001b[0m \u001b[0;34m\u001b[0m\u001b[0m\n\u001b[1;32m    505\u001b[0m \u001b[0;34m\u001b[0m\u001b[0m\n",
            "\u001b[0;32m/usr/local/lib/python3.10/dist-packages/pandas/core/internals/construction.py\u001b[0m in \u001b[0;36marrays_to_mgr\u001b[0;34m(arrays, columns, index, dtype, verify_integrity, typ, consolidate)\u001b[0m\n\u001b[1;32m    112\u001b[0m         \u001b[0;31m# figure out the index, if necessary\u001b[0m\u001b[0;34m\u001b[0m\u001b[0;34m\u001b[0m\u001b[0m\n\u001b[1;32m    113\u001b[0m         \u001b[0;32mif\u001b[0m \u001b[0mindex\u001b[0m \u001b[0;32mis\u001b[0m \u001b[0;32mNone\u001b[0m\u001b[0;34m:\u001b[0m\u001b[0;34m\u001b[0m\u001b[0;34m\u001b[0m\u001b[0m\n\u001b[0;32m--> 114\u001b[0;31m             \u001b[0mindex\u001b[0m \u001b[0;34m=\u001b[0m \u001b[0m_extract_index\u001b[0m\u001b[0;34m(\u001b[0m\u001b[0marrays\u001b[0m\u001b[0;34m)\u001b[0m\u001b[0;34m\u001b[0m\u001b[0;34m\u001b[0m\u001b[0m\n\u001b[0m\u001b[1;32m    115\u001b[0m         \u001b[0;32melse\u001b[0m\u001b[0;34m:\u001b[0m\u001b[0;34m\u001b[0m\u001b[0;34m\u001b[0m\u001b[0m\n\u001b[1;32m    116\u001b[0m             \u001b[0mindex\u001b[0m \u001b[0;34m=\u001b[0m \u001b[0mensure_index\u001b[0m\u001b[0;34m(\u001b[0m\u001b[0mindex\u001b[0m\u001b[0;34m)\u001b[0m\u001b[0;34m\u001b[0m\u001b[0;34m\u001b[0m\u001b[0m\n",
            "\u001b[0;32m/usr/local/lib/python3.10/dist-packages/pandas/core/internals/construction.py\u001b[0m in \u001b[0;36m_extract_index\u001b[0;34m(data)\u001b[0m\n\u001b[1;32m    662\u001b[0m             \u001b[0mraw_lengths\u001b[0m\u001b[0;34m.\u001b[0m\u001b[0mappend\u001b[0m\u001b[0;34m(\u001b[0m\u001b[0mlen\u001b[0m\u001b[0;34m(\u001b[0m\u001b[0mval\u001b[0m\u001b[0;34m)\u001b[0m\u001b[0;34m)\u001b[0m\u001b[0;34m\u001b[0m\u001b[0;34m\u001b[0m\u001b[0m\n\u001b[1;32m    663\u001b[0m         \u001b[0;32melif\u001b[0m \u001b[0misinstance\u001b[0m\u001b[0;34m(\u001b[0m\u001b[0mval\u001b[0m\u001b[0;34m,\u001b[0m \u001b[0mnp\u001b[0m\u001b[0;34m.\u001b[0m\u001b[0mndarray\u001b[0m\u001b[0;34m)\u001b[0m \u001b[0;32mand\u001b[0m \u001b[0mval\u001b[0m\u001b[0;34m.\u001b[0m\u001b[0mndim\u001b[0m \u001b[0;34m>\u001b[0m \u001b[0;36m1\u001b[0m\u001b[0;34m:\u001b[0m\u001b[0;34m\u001b[0m\u001b[0;34m\u001b[0m\u001b[0m\n\u001b[0;32m--> 664\u001b[0;31m             \u001b[0;32mraise\u001b[0m \u001b[0mValueError\u001b[0m\u001b[0;34m(\u001b[0m\u001b[0;34m\"Per-column arrays must each be 1-dimensional\"\u001b[0m\u001b[0;34m)\u001b[0m\u001b[0;34m\u001b[0m\u001b[0;34m\u001b[0m\u001b[0m\n\u001b[0m\u001b[1;32m    665\u001b[0m \u001b[0;34m\u001b[0m\u001b[0m\n\u001b[1;32m    666\u001b[0m     \u001b[0;32mif\u001b[0m \u001b[0;32mnot\u001b[0m \u001b[0mindexes\u001b[0m \u001b[0;32mand\u001b[0m \u001b[0;32mnot\u001b[0m \u001b[0mraw_lengths\u001b[0m\u001b[0;34m:\u001b[0m\u001b[0;34m\u001b[0m\u001b[0;34m\u001b[0m\u001b[0m\n",
            "\u001b[0;31mValueError\u001b[0m: Per-column arrays must each be 1-dimensional"
          ]
        }
      ]
    }
  ]
}