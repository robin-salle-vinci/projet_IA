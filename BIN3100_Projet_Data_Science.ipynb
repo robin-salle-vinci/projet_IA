{
  "nbformat": 4,
  "nbformat_minor": 0,
  "metadata": {
    "colab": {
      "provenance": [],
      "include_colab_link": true
    },
    "kernelspec": {
      "name": "python3",
      "display_name": "Python 3"
    },
    "language_info": {
      "name": "python"
    }
  },
  "cells": [
    {
      "cell_type": "markdown",
      "metadata": {
        "id": "view-in-github",
        "colab_type": "text"
      },
      "source": [
        "<a href=\"https://colab.research.google.com/github/robin-salle-vinci/projet_IA/blob/main/BIN3100_Projet_Data_Science.ipynb\" target=\"_parent\"><img src=\"https://colab.research.google.com/assets/colab-badge.svg\" alt=\"Open In Colab\"/></a>"
      ]
    },
    {
      "cell_type": "markdown",
      "metadata": {
        "id": "BsqBC76R6MbT"
      },
      "source": [
        "#Théorie\n",
        "\n",
        "##Vidéos obligatoires\n",
        "Nous vous demandons de regarder et de comprendre les vidéos suivante:\n",
        "\n",
        "1.   [Projet COVID-19 : EXPLORATION DES DONNÉES](https://www.youtube.com/watch?v=u64sWJEP4S0&list=PLO_fdPEVlfKqMDNmCFzQISI2H_nJcEDJq&index=31)\n",
        "2.   [Projet COVID-19 : PRE-PROCESSING](https://www.youtube.com/watch?v=x8yu8sq8mdw&list=PLO_fdPEVlfKqMDNmCFzQISI2H_nJcEDJq&index=32)\n",
        "3.   [Projet COVID-19 : MODÉLISATION ](https://www.youtube.com/watch?v=r58meM7ieaQ&list=PLO_fdPEVlfKqMDNmCFzQISI2H_nJcEDJq&index=33)\n",
        "\n",
        "## Les vidéos suivantes sont en bonus:\n",
        "\n",
        "4.  [PROJET COVID-19 : MÉTHODOLOGIE DE TRAVAIL](https://www.youtube.com/watch?v=1bJYEE9qgS4&list=PLO_fdPEVlfKqMDNmCFzQISI2H_nJcEDJq&index=30)\n",
        "5.  [SK-LEARN : ENSEMBLE LEARNING](https://www.youtube.com/watch?v=7C_YpudYtw8&list=PLO_fdPEVlfKqMDNmCFzQISI2H_nJcEDJq&index=29)\n"
      ]
    },
    {
      "cell_type": "markdown",
      "metadata": {
        "id": "tKSyXx3M6Mw0"
      },
      "source": [
        "# Partie 1: Vidéos Machine Learnia\n",
        "\n",
        "https://www.youtube.com/playlist?list=PLO_fdPEVlfKqMDNmCFzQISI2H_nJcEDJq"
      ]
    },
    {
      "cell_type": "markdown",
      "metadata": {
        "id": "e11XhQyN8lLb"
      },
      "source": [
        "## Vidéos (27 à 29 /30) :\n",
        "[Projet COVID-19 : EXPLORATION DES DONNÉES](https://www.youtube.com/watch?v=u64sWJEP4S0&list=PLO_fdPEVlfKqMDNmCFzQISI2H_nJcEDJq&index=31) <strong> (Déjà vue en Semaine 04 !) </strong>\n",
        "\n",
        "[Projet COVID-19 : PRE-PROCESSING](https://www.youtube.com/watch?v=x8yu8sq8mdw&list=PLO_fdPEVlfKqMDNmCFzQISI2H_nJcEDJq&index=32)\n",
        "\n",
        "[Projet COVID-19 : MODÉLISATION ](https://www.youtube.com/watch?v=r58meM7ieaQ&list=PLO_fdPEVlfKqMDNmCFzQISI2H_nJcEDJq&index=33)\n",
        "\n",
        "\n",
        "Dans ces trois vidéos, vous allez suivre le développement complet d'un projet depuis l'analyse des données jusqu'à la création du modèle ainsi que son entrainement et son évaluation.\n",
        "\n",
        "Ce projet est celui de la détection des patients ayant le COVID-19.\n",
        "\n",
        "**Remarques :**\n",
        "\n",
        "1. Les vidéos sont assez longues (60, 45 et 37 minutes respectivement).  On ne vous demande pas de reproduire ce projet. Celui-ci est là pour vous donner un exemple des différentes étapes d'un projet et vous aider dans le projet que vous allez faire cette semaine. Les deux heures du lundi seront consacré à ce nouveau projet.\n",
        "2. La méthodologie utilisée pour la résolution de ce projet est expliquée plus en détails dans la première vidéo bonus : [PROJET COVID-19 : MÉTHODOLOGIE DE TRAVAIL ](https://www.youtube.com/watch?v=1bJYEE9qgS4&list=PLO_fdPEVlfKqMDNmCFzQISI2H_nJcEDJq&index=30)\n",
        "3. Pour la partie modélisation, des techniques dites d'Ensemble Learning sont utilisées. Si vous voulez en savoir plus sur ces techniques, vous pouvez regarder la seconde vidéo bonus : [SK-LEARN : ENSEMBLE LEARNING ](https://www.youtube.com/watch?v=7C_YpudYtw8&list=PLO_fdPEVlfKqMDNmCFzQISI2H_nJcEDJq&index=29)\n",
        "4. Si cela vous intéresse, le fichier de données pour ce projet se trouve sur moodle et s'apppelle [COVID-19.xlsx](https://moodle.vinci.be/mod/resource/view.php?id=192010)"
      ]
    },
    {
      "cell_type": "markdown",
      "metadata": {
        "id": "j_KIPXjI8lc8"
      },
      "source": [
        "# Partie 2 : Projet \"Customer Segmentation Classification\"\n",
        "\n",
        "Une entreprise automobile envisage de pénétrer de nouveaux marchés avec ses produits existants (P1, P2, P3, P4 et P5). Après une étude de marché intensive, elle en a déduit que le comportement du nouveau marché est similaire à celui de son marché existant.\n",
        "\n",
        "Sur le marché existant, l'équipe de vente a classé tous les clients en quatre segments (A, B, C, D). Elle a ensuite mené des actions de sensibilisation et de communication segmentées pour chaque segment de clients. Cette stratégie a exceptionnellement bien fonctionné. Elle prévoit d'utiliser la même stratégie pour les nouveaux marchés et a identifié 1000 nouveaux clients potentiels.\n",
        "\n",
        "Il vous est demandé d'aider le directeur à prévoir le bon groupe de nouveaux clients.\n",
        "\n",
        "Ces données se trouve dans le fichier [Customer_Segmentation.csv](https://moodle.vinci.be/mod/resource/view.php?id=191997) se trouvant sur moodle\n",
        "\n",
        "Nous vous demandons de fournir un modèle permettant de faire des prédictions <strong> sur le segment dans lequel classer chaque nouveau client. </strong>\n",
        "\n",
        "Pour faire, vous allez suivre la méthodologie présentée dans les vidéos :\n",
        "\n",
        "\n",
        "\n",
        "<ol type=\"I\">\n",
        "<li> <h2><b>Exploratory Data Analysis</b> </h2>\n",
        "<b>Objectif :</b> comprendre au maximum les données dont on dispose pour définir une stratégie de modélisation.: </li>\n",
        "<ol>\n",
        "<li>  Analyse de la forme :</li>\n",
        "<ol type=\"a\">\n",
        "<li> Identification de la target </li>\n",
        "<li>Nombre des lignes et de colonnes </li>\n",
        "<li>Identification des valeurs manquantes </li>\n",
        "<li>Types de variables</li>\n",
        "</ol>\n",
        "<li>Analyse du fond :</li>\n",
        "<ol type=\"a\">\n",
        "<li>Visualisation de la target (histogramme/boxplot) </li>\n",
        "<li>Compréhension des différentes variables (recherche)</li>\n",
        "<li>Visualisation des relations : features/target</li>\n",
        "<li>Identification des outliers</li>\n",
        "</ol>\n",
        "</ol>\n",
        "\n",
        "<li><h2><b>Pre-processing</b></h2>\n",
        "\n",
        "<b> Objectif :</b> transformer le data pour le mettre dans un format propice au machine learning </li>\n",
        "<ol>\n",
        "<li>Création du Train Set / Test Set </li>\n",
        "<li>Élimination des NaN : dropna(), imputation, colonne\"vides\"</li>\n",
        "<li>Encodage</li>\n",
        "<li>Suppression des outliers néfastes au modèle</li>\n",
        "<li>Feature selection</li>\n",
        "<li>Feature engineering</li>\n",
        "<li>Feature scaling</li>\n",
        "</ol>\n",
        "\n",
        "<li><h2><b>Modelling</b></h2>\n",
        "<b>Objectif:</b> développer un modèle de machine learning capable de répondre a l'objectif final.</li>\n",
        "<ol>\n",
        "<li>Définir une fonction d'évaluation</li>\n",
        "<li>Entrainement de différents modèles</li>\n",
        "<li>Optimisation avec GridSearchCV</li>\n",
        "<li>Analyse des erreurs et retour au Preprocessing / EDA <br>\n",
        "           Learning Curve et prise de décision</li>\n",
        "</ol>\n",
        "</ol>\n",
        "\n",
        "\n"
      ]
    },
    {
      "cell_type": "markdown",
      "metadata": {
        "id": "eWa-fn1MCVQR"
      },
      "source": [
        "# **I. EXPLORATORY DATA ANALYSIS**\n",
        "\n",
        "## 1) Objectif :\n",
        "- Comprendre du mieux possible nos données (un petit pas en avant vaut mieux qu'un grand pas en arriere)\n",
        "- Développer une premiere stratégie de modélisation\n",
        "\n",
        "## 2) Analyse de Forme :\n",
        "- **variable target** : [ Votre réponse ici ]\n",
        "- **lignes et colonnes** : [ Votre réponse ici ]\n",
        "- **types de variables** : [ Votre réponse ici ]\n",
        "- **Analyse des valeurs manquantes** :\n",
        "\n",
        "    [ Votre réponse ici ]"
      ]
    },
    {
      "cell_type": "code",
      "metadata": {
        "id": "6jP9jGOu59wa"
      },
      "source": [
        "#Imports\n",
        "import numpy as np\n",
        "import pandas as pd\n",
        "import matplotlib.pyplot as plt\n",
        "import seaborn as sns"
      ],
      "execution_count": 1,
      "outputs": []
    },
    {
      "cell_type": "code",
      "metadata": {
        "id": "OyRq-Rpc6c7W"
      },
      "source": [],
      "execution_count": null,
      "outputs": []
    },
    {
      "cell_type": "markdown",
      "metadata": {
        "id": "hb9gnDyUDjan"
      },
      "source": [
        "## 3) Analyse de Fond :\n",
        "- **Visualisation de la target** :\n",
        "    \n",
        "    [ Votre réponse ici ]\n",
        "    \n",
        "    \n",
        "- **Signification des variables** :\n",
        "    \n",
        "    [ Votre réponse ici ]\n",
        "\n",
        "- **Relation Variables / Target** :\n",
        "\n",
        "    [ Votre réponse ici ]\n",
        "\n",
        "- **Choix de la métrique** : Etant donné le problème quelle mesure serait la plus appropriée et pourquoi?\n",
        "\n",
        "    [ Votre réponse ici ]\n",
        "\n",
        "- **Outliers et/ou autre analyse** :\n",
        "\n",
        "    [ Votre réponse ici ]"
      ]
    },
    {
      "cell_type": "code",
      "metadata": {
        "id": "YVoJWCylEIYo"
      },
      "source": [
        "#Votre code pour l'analyse de Fond"
      ],
      "execution_count": null,
      "outputs": []
    },
    {
      "cell_type": "markdown",
      "metadata": {
        "id": "6VNmeIK-ERzu"
      },
      "source": [
        "## **II) PRE-PROCESSING :**\n",
        "\n",
        "##Objectif :  \n",
        "- Transformer le data pour le mettre dans un format propice au machine learning\n",
        "\n",
        "##Explications de vos choix :\n",
        "[ Vos explications ici ]"
      ]
    },
    {
      "cell_type": "code",
      "metadata": {
        "id": "E9LmHujhE4YI"
      },
      "source": [
        "#Code pour votre pre-processing"
      ],
      "execution_count": null,
      "outputs": []
    },
    {
      "cell_type": "markdown",
      "metadata": {
        "id": "k-eORh3pFix2"
      },
      "source": [
        "##**III) MODELLING**\n",
        "\n",
        "##Objectif :  \n",
        "- Développer un modèle de machine learning capable de répondre a l'objectif final.\n",
        "\n",
        "##Explications de vos choix :\n",
        "[ Vos explications ici ]"
      ]
    },
    {
      "cell_type": "code",
      "metadata": {
        "id": "vQOvWy9qF2X0"
      },
      "source": [
        "#Code votre modelling\n",
        "\n",
        "from sklearn.tree import DecisionTreeClassifier\n",
        "from sklearn.ensemble import RandomForestClassifier\n",
        "from sklearn.svm import LinearSVC, SVC\n",
        "from sklearn.neighbors import KNeighborsClassifier\n",
        "from sklearn.linear_model import LogisticRegression\n",
        "from sklearn.pipeline import make_pipeline\n",
        "from sklearn.preprocessing import StandardScaler\n",
        "\n",
        "# Fonction d'évaluation\n",
        "from sklearn.metrics import f1_score, confusion_matrix, classification_report, accuracy_score\n",
        "from sklearn.model_selection import\n",
        "\n",
        "\n",
        "preprocessor = make_pipeline();\n",
        "\n",
        "DecisionTreeClassifier = make_pipeline(preprocessor, DecisionTreeClassifier(random_state=0))\n",
        "RandomForestClassifier = make_pipeline(preprocessor, RandomForestClassifier(random_state=0))\n",
        "LinearSVC = make_pipeline(preprocessor, StandardScaler(), LinearSVC(random_state=0))\n",
        "SVC = make_pipeline(preprocessor, StandardScaler(), SVC(random_state=0))\n",
        "KNeighborsClassifier = make_pipeline(preprocessor, StandardScaler(), KNeighborsClassifier())\n",
        "LogisticRegression = make_pipeline(preprocessor, LogisticRegression(random_state=0))\n",
        "\n",
        "models = [DecisionTreeClassifier, RandomForestClassifier, LinearSVC, SVC, KNeighborsClassifier, LogisticRegression]\n",
        "\n",
        "\n",
        "\n",
        "\n"
      ],
      "execution_count": 4,
      "outputs": []
    },
    {
      "cell_type": "markdown",
      "metadata": {
        "id": "wHj6FnRdHMVA"
      },
      "source": [
        "##**IV) Tests du modèle**##\n",
        "\n",
        "Pour tester, votre modèle nous vous demandons de prédire les décisions pour les clients du fichier Customer_Segmentation et <strong> d'afficher le score de vos prédictions (l'accuracy, la précision ou le recall selon ce que vous avez choisi).</strong>\n",
        "\n",
        "\n",
        "Le fichier [Customer_Segmentation_test.csv](https://moodle.vinci.be/mod/resource/view.php?id=192001) contient les données des 1000 clients pour lesquels vous devez prédire le groupe.\n",
        "Pour ce faire, on vous demande de soumettre un fichier csv contenant les prédictions dans le même ordre que les clients du fichier Custom_Segmentation_test.csv. Ce fichier devra avoir la forme du fichier [Customer_Segmentation_predicition_submission.csv](https://moodle.vinci.be/mod/resource/view.php?id=192007) se trouvant aussi sur moodle.\n",
        "\n",
        "\n",
        "\n"
      ]
    },
    {
      "cell_type": "code",
      "metadata": {
        "id": "-YlWksUxNnJ1"
      },
      "source": [
        "#Code pour vos tests et vos résultats"
      ],
      "execution_count": null,
      "outputs": []
    }
  ]
}